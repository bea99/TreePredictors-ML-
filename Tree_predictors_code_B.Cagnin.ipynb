{
 "cells": [
  {
   "cell_type": "markdown",
   "id": "30b91957",
   "metadata": {},
   "source": [
    "# Machine Learning - experimental project\n",
    "\n",
    "**Author**:  Cagnin Beatrice"
   ]
  },
  {
   "cell_type": "markdown",
   "id": "ed7770d2",
   "metadata": {},
   "source": [
    "---"
   ]
  },
  {
   "cell_type": "markdown",
   "id": "fbbe21e6",
   "metadata": {},
   "source": [
    "# Tree predictors for binary classification"
   ]
  },
  {
   "cell_type": "markdown",
   "id": "7b9aa5c4",
   "metadata": {},
   "source": [
    "---"
   ]
  },
  {
   "cell_type": "code",
   "execution_count": 20,
   "id": "7edd2792",
   "metadata": {},
   "outputs": [],
   "source": [
    "import warnings\n",
    "warnings.filterwarnings(\"ignore\")   "
   ]
  },
  {
   "cell_type": "code",
   "execution_count": 21,
   "id": "eb6e6610",
   "metadata": {},
   "outputs": [],
   "source": [
    "import pandas as pd\n",
    "import numpy as np\n",
    " \n",
    "import matplotlib \n",
    "import matplotlib.pyplot as plt\n",
    "%matplotlib inline\n",
    "\n",
    "from ucimlrepo import fetch_ucirepo\n",
    "from collections import Counter\n",
    "import concurrent.futures\n",
    "\n",
    "from sklearn.base import BaseEstimator, ClassifierMixin\n",
    "from sklearn.model_selection import train_test_split, KFold, RandomizedSearchCV, cross_val_score, validation_curve\n",
    "from sklearn.metrics import zero_one_loss, accuracy_score\n",
    "from sklearn.preprocessing import OneHotEncoder\n",
    "from sklearn.compose import make_column_transformer\n",
    "from sklearn.ensemble import RandomForestClassifier"
   ]
  },
  {
   "cell_type": "markdown",
   "id": "ef9bc43b",
   "metadata": {},
   "source": [
    "---"
   ]
  },
  {
   "cell_type": "markdown",
   "id": "77e161f8",
   "metadata": {},
   "source": [
    "## Structures"
   ]
  },
  {
   "cell_type": "markdown",
   "id": "4d98ea77",
   "metadata": {},
   "source": [
    "#### Structure for the nodes"
   ]
  },
  {
   "cell_type": "code",
   "execution_count": 22,
   "id": "a5837805",
   "metadata": {},
   "outputs": [],
   "source": [
    "class TreeNode:\n",
    "    \n",
    "    def __init__(self, decision_function=None, left=None, right=None, is_leaf=False, prediction=None):    \n",
    "        \"\"\"\n",
    "        TreeNode represents a node in the decision tree.\n",
    "        \"\"\"\n",
    "        self.decision_function = decision_function  \n",
    "        self.left = left                            \n",
    "        self.right = right\n",
    "        self.is_leaf = is_leaf                      \n",
    "        self.prediction = prediction                \n",
    "        \n",
    "        \n",
    "    def predict(self, x):\n",
    "        \"\"\"Recursively predicts the class for a data point x.\"\"\"\n",
    "        if self.is_leaf:                    \n",
    "            return self.prediction\n",
    "        if self.decision_function(x):       \n",
    "            return self.left.predict(x)     \n",
    "        else:\n",
    "            return self.right.predict(x)    "
   ]
  },
  {
   "cell_type": "markdown",
   "id": "622c62a2",
   "metadata": {},
   "source": [
    "#### Structure for the tree predictor"
   ]
  },
  {
   "cell_type": "code",
   "execution_count": 23,
   "id": "8400dcc9",
   "metadata": {},
   "outputs": [],
   "source": [
    "class DecisionTree:\n",
    "    \n",
    "    def __init__(self, splitting_criterion='gini', max_depth=None, min_samples_split=2):\n",
    "        \"\"\"\n",
    "        Initialize the Decision Tree with a splitting criterion and two stopping criteria.\n",
    "        \"\"\"\n",
    "        self.splitting_criterion = splitting_criterion\n",
    "        self.max_depth = max_depth\n",
    "        self.min_samples_split = min_samples_split\n",
    "        self.root = None\n",
    "    \n",
    "    \n",
    "    def gini_impurity(self, y):\n",
    "        \"\"\"Calculate Gini impurity.\"\"\"\n",
    "        m = len(y)\n",
    "        if m == 0:\n",
    "            return 0\n",
    "        p = np.bincount(y) / m\n",
    "        return 1 - np.sum(p ** 2)    \n",
    "    \n",
    "    def entropy(self, y):\n",
    "        \"\"\"Calculate entropy.\"\"\"\n",
    "        m = len(y)\n",
    "        if m == 0:\n",
    "            return 0\n",
    "        p = np.bincount(y) / m\n",
    "        return -np.sum(p * np.log2(p + 1e-10))\n",
    "\n",
    "    def squared_error(self, y):\n",
    "        \"\"\"Calculate squared error.\"\"\"\n",
    "        return np.mean((y - np.mean(y)) ** 2)\n",
    "\n",
    "    \n",
    "    def best_split(self, X, y):\n",
    "        \"\"\"Find the best feature and threshold for splitting.\"\"\"\n",
    "        best_feature, best_threshold = None, None\n",
    "        best_score = float('inf')  \n",
    "        \n",
    "        for feature in range(X.shape[1]):\n",
    "            thresholds = np.unique(X[:, feature])\n",
    "            for threshold in thresholds:\n",
    "                left_indices = X[:, feature] <= threshold\n",
    "                right_indices = X[:, feature] > threshold\n",
    "\n",
    "                if np.sum(left_indices) == 0 or np.sum(right_indices) == 0:\n",
    "                    continue\n",
    "\n",
    "                if self.splitting_criterion == 'gini':\n",
    "                    score = (self.gini_impurity(y[left_indices]) * np.sum(left_indices) +\n",
    "                             self.gini_impurity(y[right_indices]) * np.sum(right_indices)) / len(y)\n",
    "                elif self.splitting_criterion == 'entropy':\n",
    "                    score = (self.entropy(y[left_indices]) * np.sum(left_indices) +\n",
    "                             self.entropy(y[right_indices]) * np.sum(right_indices)) / len(y)\n",
    "                elif self.splitting_criterion == 'squared_error':\n",
    "                    score = (self.squared_error(y[left_indices]) * np.sum(left_indices) +\n",
    "                             self.squared_error(y[right_indices]) * np.sum(right_indices)) / len(y)\n",
    "\n",
    "                if score < best_score:\n",
    "                    best_score = score\n",
    "                    best_feature = feature\n",
    "                    best_threshold = threshold\n",
    "\n",
    "        return best_feature, best_threshold\n",
    "\n",
    "    \n",
    "    \n",
    "    def stopping_criterion(self, X, y, depth):\n",
    "        \"\"\"Check if stopping criteria are met.\"\"\"\n",
    "        return ((self.max_depth is not None and depth >= self.max_depth) or \n",
    "                len(y) < self.min_samples_split)\n",
    "\n",
    "        \n",
    "    def _build_tree(self, X, y, depth=0):   \n",
    "        \"\"\"Recursively build the decision tree.\"\"\"\n",
    "        num_samples = len(y)\n",
    "\n",
    "        if self.stopping_criterion(X, y, depth):                  \n",
    "            prediction = max(set(y), key=list(y).count)           \n",
    "            return TreeNode(is_leaf=True, prediction=prediction)\n",
    "\n",
    "        best_feature, best_threshold = self.best_split(X, y)   \n",
    "\n",
    "        if best_feature is None:                                  \n",
    "            prediction = max(set(y), key=list(y).count)           \n",
    "            return TreeNode(is_leaf=True, prediction=prediction)\n",
    "\n",
    "        \n",
    "        \n",
    "        left_idx = X[:, best_feature] <= best_threshold           \n",
    "        right_idx = X[:, best_feature] > best_threshold\n",
    "\n",
    "        left_child = self._build_tree(X[left_idx], y[left_idx], depth + 1)\n",
    "        right_child = self._build_tree(X[right_idx], y[right_idx], depth + 1)\n",
    "\n",
    "        \n",
    "        decision_function = lambda x: x[best_feature] <= best_threshold    \n",
    "\n",
    "\n",
    "        return TreeNode(decision_function=decision_function, left=left_child, right=right_child)  \n",
    "\n",
    "    \n",
    "    \n",
    "    def fit(self, X, y):\n",
    "        \"\"\"Fit the decision tree to the training data.\"\"\"\n",
    "        self.root = self._build_tree(X, y)\n",
    "\n",
    "        \n",
    "    def predict(self, X):\n",
    "        \"\"\"Predict the class labels for the input data.\"\"\"\n",
    "        return [self.root.predict(x) for x in X]\n",
    "    \n",
    "    \n",
    "    \n",
    "    \n",
    "    \n",
    "    \n",
    "    \n",
    "    def get_params(self, deep=True):\n",
    "        \"\"\"Return the parameters of the estimator.\"\"\"\n",
    "        return {\n",
    "            'splitting_criterion': self.splitting_criterion,\n",
    "            'max_depth': self.max_depth,\n",
    "            'min_samples_split': self.min_samples_split\n",
    "        }\n",
    "\n",
    "    def set_params(self, **params):\n",
    "        \"\"\"Set the parameters of the estimator.\"\"\"\n",
    "        for key, value in params.items():\n",
    "            setattr(self, key, value)\n",
    "        return self\n",
    "    \n",
    "    \n",
    "    \n",
    "    def score(self, X, y):\n",
    "        \"\"\"\n",
    "        Compute accuracy of the model.\n",
    "        The `score` method is required for scikit-learn compatibility.\n",
    "        \"\"\"\n",
    "        y_pred = self.predict(X)\n",
    "        return accuracy_score(y, y_pred)"
   ]
  },
  {
   "cell_type": "markdown",
   "id": "367ced90",
   "metadata": {},
   "source": [
    "#### Structure for RandomForest"
   ]
  },
  {
   "cell_type": "code",
   "execution_count": 24,
   "id": "cf4ece66",
   "metadata": {},
   "outputs": [],
   "source": [
    "class RandomForest(BaseEstimator, ClassifierMixin):\n",
    "    \n",
    "    def __init__(self, n_estimators=10, max_depth=None, min_samples_split=2):\n",
    "        \"\"\"\n",
    "        Initialize the SimpleRandomForest.\n",
    "\n",
    "        Parameters:\n",
    "        - n_estimators: Number of trees in the forest.\n",
    "        - max_depth: Maximum depth of each tree.\n",
    "        - min_samples_split: Minimum number of samples required to split an internal node.\n",
    "        \"\"\"\n",
    "        self.n_estimators = n_estimators\n",
    "        self.max_depth = max_depth\n",
    "        self.min_samples_split = min_samples_split\n",
    "        self.trees = []\n",
    "\n",
    "    def _bootstrap_sample(self, X, y):\n",
    "        \"\"\"Create a bootstrap sample from the training data.\"\"\"\n",
    "        n_samples = X.shape[0]\n",
    "        indices = np.random.randint(0, n_samples, size=n_samples)  \n",
    "        return X[indices], y[indices]\n",
    "\n",
    "    def _train_single_tree(self, X, y):\n",
    "        \"\"\"Helper function to train a single decision tree with bootstrapping.\"\"\"\n",
    "        X_sample, y_sample = self._bootstrap_sample(X, y)\n",
    "        tree = DecisionTree(max_depth=self.max_depth, min_samples_split=self.min_samples_split)\n",
    "        tree.fit(X_sample, y_sample)\n",
    "        return tree\n",
    "\n",
    "    def fit(self, X, y):\n",
    "        \"\"\"Fit the RandomForest to the training data using parallelization.\"\"\"\n",
    "        with concurrent.futures.ThreadPoolExecutor() as executor:\n",
    "            self.trees = list(executor.map(lambda _: self._train_single_tree(X, y), range(self.n_estimators)))\n",
    "\n",
    "    def predict(self, X):\n",
    "        \"\"\"Predict the class for each sample in X using majority voting.\"\"\"\n",
    "        tree_predictions = np.array([tree.predict(X) for tree in self.trees])\n",
    "        \n",
    "        predictions = [np.bincount(tree_predictions[:, i]).argmax() for i in range(X.shape[0])]\n",
    "        \n",
    "        return np.array(predictions)\n",
    "    \n",
    "    \n",
    "    def score(self, X, y):\n",
    "        \"\"\"Compute the accuracy of the model on the given data.\"\"\"\n",
    "        y_pred = self.predict(X)\n",
    "        return accuracy_score(y, y_pred)\n",
    "    \n",
    "    def get_params(self, deep=True):\n",
    "        \"\"\"Get parameters for this estimator.\"\"\"\n",
    "        return {\n",
    "            'n_estimators': self.n_estimators,\n",
    "            'max_depth': self.max_depth,\n",
    "            'min_samples_split': self.min_samples_split\n",
    "        }\n",
    "\n",
    "    def set_params(self, **params):\n",
    "        \"\"\"Set parameters for this estimator.\"\"\"\n",
    "        for param, value in params.items():\n",
    "            setattr(self, param, value)\n",
    "        return self"
   ]
  },
  {
   "cell_type": "markdown",
   "id": "77ec68e9",
   "metadata": {},
   "source": [
    "---"
   ]
  },
  {
   "cell_type": "markdown",
   "id": "d7ad0ff6",
   "metadata": {},
   "source": [
    "### Dataset"
   ]
  },
  {
   "cell_type": "markdown",
   "id": "24c72a59",
   "metadata": {},
   "source": [
    "The dataset can be taken from the UCI Machine Learning Repository with the ID \"848\""
   ]
  },
  {
   "cell_type": "code",
   "execution_count": 6,
   "id": "bbf7fb3b",
   "metadata": {},
   "outputs": [
    {
     "name": "stdout",
     "output_type": "stream",
     "text": [
      "Requirement already satisfied: ucimlrepo in /Users/beatricecagnin/opt/anaconda3/lib/python3.9/site-packages (0.0.7)\n",
      "Requirement already satisfied: pandas>=1.0.0 in /Users/beatricecagnin/opt/anaconda3/lib/python3.9/site-packages (from ucimlrepo) (2.2.3)\n",
      "Requirement already satisfied: certifi>=2020.12.5 in /Users/beatricecagnin/opt/anaconda3/lib/python3.9/site-packages (from ucimlrepo) (2022.9.24)\n",
      "Requirement already satisfied: python-dateutil>=2.8.2 in /Users/beatricecagnin/opt/anaconda3/lib/python3.9/site-packages (from pandas>=1.0.0->ucimlrepo) (2.8.2)\n",
      "Requirement already satisfied: pytz>=2020.1 in /Users/beatricecagnin/opt/anaconda3/lib/python3.9/site-packages (from pandas>=1.0.0->ucimlrepo) (2022.1)\n",
      "Requirement already satisfied: tzdata>=2022.7 in /Users/beatricecagnin/opt/anaconda3/lib/python3.9/site-packages (from pandas>=1.0.0->ucimlrepo) (2024.1)\n",
      "Requirement already satisfied: numpy>=1.22.4 in /Users/beatricecagnin/opt/anaconda3/lib/python3.9/site-packages (from pandas>=1.0.0->ucimlrepo) (1.26.4)\n",
      "Requirement already satisfied: six>=1.5 in /Users/beatricecagnin/opt/anaconda3/lib/python3.9/site-packages (from python-dateutil>=2.8.2->pandas>=1.0.0->ucimlrepo) (1.16.0)\n"
     ]
    }
   ],
   "source": [
    "!pip install ucimlrepo"
   ]
  },
  {
   "cell_type": "code",
   "execution_count": 25,
   "id": "0bfe2385",
   "metadata": {},
   "outputs": [
    {
     "data": {
      "text/html": [
       "<div>\n",
       "<style scoped>\n",
       "    .dataframe tbody tr th:only-of-type {\n",
       "        vertical-align: middle;\n",
       "    }\n",
       "\n",
       "    .dataframe tbody tr th {\n",
       "        vertical-align: top;\n",
       "    }\n",
       "\n",
       "    .dataframe thead th {\n",
       "        text-align: right;\n",
       "    }\n",
       "</style>\n",
       "<table border=\"1\" class=\"dataframe\">\n",
       "  <thead>\n",
       "    <tr style=\"text-align: right;\">\n",
       "      <th></th>\n",
       "      <th>cap-diameter</th>\n",
       "      <th>cap-shape</th>\n",
       "      <th>cap-surface</th>\n",
       "      <th>cap-color</th>\n",
       "      <th>does-bruise-or-bleed</th>\n",
       "      <th>gill-attachment</th>\n",
       "      <th>gill-spacing</th>\n",
       "      <th>gill-color</th>\n",
       "      <th>stem-height</th>\n",
       "      <th>stem-width</th>\n",
       "      <th>...</th>\n",
       "      <th>stem-surface</th>\n",
       "      <th>stem-color</th>\n",
       "      <th>veil-type</th>\n",
       "      <th>veil-color</th>\n",
       "      <th>has-ring</th>\n",
       "      <th>ring-type</th>\n",
       "      <th>spore-print-color</th>\n",
       "      <th>habitat</th>\n",
       "      <th>season</th>\n",
       "      <th>class</th>\n",
       "    </tr>\n",
       "  </thead>\n",
       "  <tbody>\n",
       "    <tr>\n",
       "      <th>0</th>\n",
       "      <td>15.26</td>\n",
       "      <td>x</td>\n",
       "      <td>g</td>\n",
       "      <td>o</td>\n",
       "      <td>f</td>\n",
       "      <td>e</td>\n",
       "      <td>NaN</td>\n",
       "      <td>w</td>\n",
       "      <td>16.95</td>\n",
       "      <td>17.09</td>\n",
       "      <td>...</td>\n",
       "      <td>y</td>\n",
       "      <td>w</td>\n",
       "      <td>u</td>\n",
       "      <td>w</td>\n",
       "      <td>t</td>\n",
       "      <td>g</td>\n",
       "      <td>NaN</td>\n",
       "      <td>d</td>\n",
       "      <td>w</td>\n",
       "      <td>1</td>\n",
       "    </tr>\n",
       "    <tr>\n",
       "      <th>1</th>\n",
       "      <td>16.60</td>\n",
       "      <td>x</td>\n",
       "      <td>g</td>\n",
       "      <td>o</td>\n",
       "      <td>f</td>\n",
       "      <td>e</td>\n",
       "      <td>NaN</td>\n",
       "      <td>w</td>\n",
       "      <td>17.99</td>\n",
       "      <td>18.19</td>\n",
       "      <td>...</td>\n",
       "      <td>y</td>\n",
       "      <td>w</td>\n",
       "      <td>u</td>\n",
       "      <td>w</td>\n",
       "      <td>t</td>\n",
       "      <td>g</td>\n",
       "      <td>NaN</td>\n",
       "      <td>d</td>\n",
       "      <td>u</td>\n",
       "      <td>1</td>\n",
       "    </tr>\n",
       "    <tr>\n",
       "      <th>2</th>\n",
       "      <td>14.07</td>\n",
       "      <td>x</td>\n",
       "      <td>g</td>\n",
       "      <td>o</td>\n",
       "      <td>f</td>\n",
       "      <td>e</td>\n",
       "      <td>NaN</td>\n",
       "      <td>w</td>\n",
       "      <td>17.80</td>\n",
       "      <td>17.74</td>\n",
       "      <td>...</td>\n",
       "      <td>y</td>\n",
       "      <td>w</td>\n",
       "      <td>u</td>\n",
       "      <td>w</td>\n",
       "      <td>t</td>\n",
       "      <td>g</td>\n",
       "      <td>NaN</td>\n",
       "      <td>d</td>\n",
       "      <td>w</td>\n",
       "      <td>1</td>\n",
       "    </tr>\n",
       "    <tr>\n",
       "      <th>3</th>\n",
       "      <td>14.17</td>\n",
       "      <td>f</td>\n",
       "      <td>h</td>\n",
       "      <td>e</td>\n",
       "      <td>f</td>\n",
       "      <td>e</td>\n",
       "      <td>NaN</td>\n",
       "      <td>w</td>\n",
       "      <td>15.77</td>\n",
       "      <td>15.98</td>\n",
       "      <td>...</td>\n",
       "      <td>y</td>\n",
       "      <td>w</td>\n",
       "      <td>u</td>\n",
       "      <td>w</td>\n",
       "      <td>t</td>\n",
       "      <td>p</td>\n",
       "      <td>NaN</td>\n",
       "      <td>d</td>\n",
       "      <td>w</td>\n",
       "      <td>1</td>\n",
       "    </tr>\n",
       "    <tr>\n",
       "      <th>4</th>\n",
       "      <td>14.64</td>\n",
       "      <td>x</td>\n",
       "      <td>h</td>\n",
       "      <td>o</td>\n",
       "      <td>f</td>\n",
       "      <td>e</td>\n",
       "      <td>NaN</td>\n",
       "      <td>w</td>\n",
       "      <td>16.53</td>\n",
       "      <td>17.20</td>\n",
       "      <td>...</td>\n",
       "      <td>y</td>\n",
       "      <td>w</td>\n",
       "      <td>u</td>\n",
       "      <td>w</td>\n",
       "      <td>t</td>\n",
       "      <td>p</td>\n",
       "      <td>NaN</td>\n",
       "      <td>d</td>\n",
       "      <td>w</td>\n",
       "      <td>1</td>\n",
       "    </tr>\n",
       "  </tbody>\n",
       "</table>\n",
       "<p>5 rows × 21 columns</p>\n",
       "</div>"
      ],
      "text/plain": [
       "   cap-diameter cap-shape cap-surface cap-color does-bruise-or-bleed  \\\n",
       "0         15.26         x           g         o                    f   \n",
       "1         16.60         x           g         o                    f   \n",
       "2         14.07         x           g         o                    f   \n",
       "3         14.17         f           h         e                    f   \n",
       "4         14.64         x           h         o                    f   \n",
       "\n",
       "  gill-attachment gill-spacing gill-color  stem-height  stem-width  ...  \\\n",
       "0               e          NaN          w        16.95       17.09  ...   \n",
       "1               e          NaN          w        17.99       18.19  ...   \n",
       "2               e          NaN          w        17.80       17.74  ...   \n",
       "3               e          NaN          w        15.77       15.98  ...   \n",
       "4               e          NaN          w        16.53       17.20  ...   \n",
       "\n",
       "  stem-surface stem-color veil-type veil-color has-ring ring-type  \\\n",
       "0            y          w         u          w        t         g   \n",
       "1            y          w         u          w        t         g   \n",
       "2            y          w         u          w        t         g   \n",
       "3            y          w         u          w        t         p   \n",
       "4            y          w         u          w        t         p   \n",
       "\n",
       "  spore-print-color habitat season class  \n",
       "0               NaN       d      w     1  \n",
       "1               NaN       d      u     1  \n",
       "2               NaN       d      w     1  \n",
       "3               NaN       d      w     1  \n",
       "4               NaN       d      w     1  \n",
       "\n",
       "[5 rows x 21 columns]"
      ]
     },
     "execution_count": 25,
     "metadata": {},
     "output_type": "execute_result"
    }
   ],
   "source": [
    "secondary_mushroom = fetch_ucirepo(id=848)\n",
    "\n",
    "X = secondary_mushroom.data.features\n",
    "y = secondary_mushroom.data.targets\n",
    "y = y['class'].apply(lambda x: 1 if x == 'p' else 0)\n",
    "\n",
    "df = X\n",
    "df['class'] = y\n",
    "\n",
    "df.head()"
   ]
  },
  {
   "cell_type": "code",
   "execution_count": 8,
   "id": "9dbeacd4",
   "metadata": {},
   "outputs": [
    {
     "name": "stdout",
     "output_type": "stream",
     "text": [
      "                    name     role         type demographic description units  \\\n",
      "0                  class   Target  Categorical        None        None  None   \n",
      "1           cap-diameter  Feature   Continuous        None        None  None   \n",
      "2              cap-shape  Feature  Categorical        None        None  None   \n",
      "3            cap-surface  Feature  Categorical        None        None  None   \n",
      "4              cap-color  Feature  Categorical        None        None  None   \n",
      "5   does-bruise-or-bleed  Feature  Categorical        None        None  None   \n",
      "6        gill-attachment  Feature  Categorical        None        None  None   \n",
      "7           gill-spacing  Feature  Categorical        None        None  None   \n",
      "8             gill-color  Feature  Categorical        None        None  None   \n",
      "9            stem-height  Feature   Continuous        None        None  None   \n",
      "10            stem-width  Feature   Continuous        None        None  None   \n",
      "11             stem-root  Feature  Categorical        None        None  None   \n",
      "12          stem-surface  Feature  Categorical        None        None  None   \n",
      "13            stem-color  Feature  Categorical        None        None  None   \n",
      "14             veil-type  Feature  Categorical        None        None  None   \n",
      "15            veil-color  Feature  Categorical        None        None  None   \n",
      "16              has-ring  Feature  Categorical        None        None  None   \n",
      "17             ring-type  Feature  Categorical        None        None  None   \n",
      "18     spore-print-color  Feature  Categorical        None        None  None   \n",
      "19               habitat  Feature  Categorical        None        None  None   \n",
      "20                season  Feature  Categorical        None        None  None   \n",
      "\n",
      "   missing_values  \n",
      "0              no  \n",
      "1              no  \n",
      "2              no  \n",
      "3             yes  \n",
      "4              no  \n",
      "5              no  \n",
      "6             yes  \n",
      "7             yes  \n",
      "8              no  \n",
      "9              no  \n",
      "10             no  \n",
      "11            yes  \n",
      "12            yes  \n",
      "13             no  \n",
      "14            yes  \n",
      "15            yes  \n",
      "16             no  \n",
      "17            yes  \n",
      "18            yes  \n",
      "19             no  \n",
      "20             no  \n"
     ]
    }
   ],
   "source": [
    "print(secondary_mushroom.variables)"
   ]
  },
  {
   "cell_type": "code",
   "execution_count": 9,
   "id": "20a4d615",
   "metadata": {},
   "outputs": [
    {
     "name": "stdout",
     "output_type": "stream",
     "text": [
      "<class 'pandas.core.frame.DataFrame'>\n",
      "RangeIndex: 61069 entries, 0 to 61068\n",
      "Data columns (total 21 columns):\n",
      " #   Column                Non-Null Count  Dtype  \n",
      "---  ------                --------------  -----  \n",
      " 0   cap-diameter          61069 non-null  float64\n",
      " 1   cap-shape             61069 non-null  object \n",
      " 2   cap-surface           46949 non-null  object \n",
      " 3   cap-color             61069 non-null  object \n",
      " 4   does-bruise-or-bleed  61069 non-null  object \n",
      " 5   gill-attachment       51185 non-null  object \n",
      " 6   gill-spacing          36006 non-null  object \n",
      " 7   gill-color            61069 non-null  object \n",
      " 8   stem-height           61069 non-null  float64\n",
      " 9   stem-width            61069 non-null  float64\n",
      " 10  stem-root             9531 non-null   object \n",
      " 11  stem-surface          22945 non-null  object \n",
      " 12  stem-color            61069 non-null  object \n",
      " 13  veil-type             3177 non-null   object \n",
      " 14  veil-color            7413 non-null   object \n",
      " 15  has-ring              61069 non-null  object \n",
      " 16  ring-type             58598 non-null  object \n",
      " 17  spore-print-color     6354 non-null   object \n",
      " 18  habitat               61069 non-null  object \n",
      " 19  season                61069 non-null  object \n",
      " 20  class                 61069 non-null  int64  \n",
      "dtypes: float64(3), int64(1), object(17)\n",
      "memory usage: 9.8+ MB\n"
     ]
    }
   ],
   "source": [
    "df.info()"
   ]
  },
  {
   "cell_type": "markdown",
   "id": "608682e5",
   "metadata": {},
   "source": [
    "Drop columns that have a lot of missing values"
   ]
  },
  {
   "cell_type": "code",
   "execution_count": 26,
   "id": "06319876",
   "metadata": {},
   "outputs": [],
   "source": [
    "X_cleaned = X.drop(['veil-type', 'spore-print-color', 'veil-color', 'stem-surface', 'stem-root'], axis=1)"
   ]
  },
  {
   "cell_type": "markdown",
   "id": "039f1317",
   "metadata": {},
   "source": [
    "Drop rows with NaN values"
   ]
  },
  {
   "cell_type": "code",
   "execution_count": 27,
   "id": "40eccc4d",
   "metadata": {},
   "outputs": [],
   "source": [
    "X_cleaned = X_cleaned.replace(r'^\\s*$', 'NA', regex=True)\n",
    "X_cleaned = X_cleaned.dropna()"
   ]
  },
  {
   "cell_type": "code",
   "execution_count": 12,
   "id": "ade9ab1b",
   "metadata": {},
   "outputs": [
    {
     "name": "stdout",
     "output_type": "stream",
     "text": [
      "<class 'pandas.core.frame.DataFrame'>\n",
      "Index: 22239 entries, 2118 to 61068\n",
      "Data columns (total 16 columns):\n",
      " #   Column                Non-Null Count  Dtype  \n",
      "---  ------                --------------  -----  \n",
      " 0   cap-diameter          22239 non-null  float64\n",
      " 1   cap-shape             22239 non-null  object \n",
      " 2   cap-surface           22239 non-null  object \n",
      " 3   cap-color             22239 non-null  object \n",
      " 4   does-bruise-or-bleed  22239 non-null  object \n",
      " 5   gill-attachment       22239 non-null  object \n",
      " 6   gill-spacing          22239 non-null  object \n",
      " 7   gill-color            22239 non-null  object \n",
      " 8   stem-height           22239 non-null  float64\n",
      " 9   stem-width            22239 non-null  float64\n",
      " 10  stem-color            22239 non-null  object \n",
      " 11  has-ring              22239 non-null  object \n",
      " 12  ring-type             22239 non-null  object \n",
      " 13  habitat               22239 non-null  object \n",
      " 14  season                22239 non-null  object \n",
      " 15  class                 22239 non-null  int64  \n",
      "dtypes: float64(3), int64(1), object(12)\n",
      "memory usage: 2.9+ MB\n"
     ]
    }
   ],
   "source": [
    "X_cleaned.info()"
   ]
  },
  {
   "cell_type": "markdown",
   "id": "64622569",
   "metadata": {},
   "source": [
    "At the beginning there were 61069 rows, after the cleaning, they become 22239 (without any missing values)"
   ]
  },
  {
   "cell_type": "code",
   "execution_count": 11,
   "id": "b2fb944b",
   "metadata": {},
   "outputs": [
    {
     "data": {
      "text/plain": [
       "(array([0, 1]), array([ 9884, 12355]))"
      ]
     },
     "execution_count": 11,
     "metadata": {},
     "output_type": "execute_result"
    }
   ],
   "source": [
    "# How many poisoned and edible mushrooms?\n",
    "\n",
    "y_cleaned = X_cleaned['class']\n",
    "count = y_cleaned.values\n",
    "\n",
    "X_cleaned = X_cleaned.drop('class', axis=1)\n",
    "\n",
    "np.unique(count, return_counts = True)"
   ]
  },
  {
   "cell_type": "markdown",
   "id": "be872e0f",
   "metadata": {},
   "source": [
    "So there are 9884 edible mushrooms and 12355 poisoned mushrooms."
   ]
  },
  {
   "cell_type": "code",
   "execution_count": 14,
   "id": "50703d63",
   "metadata": {},
   "outputs": [
    {
     "data": {
      "text/plain": [
       "((22239, 15), (22239,))"
      ]
     },
     "execution_count": 14,
     "metadata": {},
     "output_type": "execute_result"
    }
   ],
   "source": [
    "X_cleaned.shape, y_cleaned.shape"
   ]
  },
  {
   "cell_type": "code",
   "execution_count": 15,
   "id": "bf40f6d4",
   "metadata": {},
   "outputs": [
    {
     "data": {
      "text/html": [
       "<div>\n",
       "<style scoped>\n",
       "    .dataframe tbody tr th:only-of-type {\n",
       "        vertical-align: middle;\n",
       "    }\n",
       "\n",
       "    .dataframe tbody tr th {\n",
       "        vertical-align: top;\n",
       "    }\n",
       "\n",
       "    .dataframe thead th {\n",
       "        text-align: right;\n",
       "    }\n",
       "</style>\n",
       "<table border=\"1\" class=\"dataframe\">\n",
       "  <thead>\n",
       "    <tr style=\"text-align: right;\">\n",
       "      <th></th>\n",
       "      <th>cap-diameter</th>\n",
       "      <th>cap-shape</th>\n",
       "      <th>cap-surface</th>\n",
       "      <th>cap-color</th>\n",
       "      <th>does-bruise-or-bleed</th>\n",
       "      <th>gill-attachment</th>\n",
       "      <th>gill-spacing</th>\n",
       "      <th>gill-color</th>\n",
       "      <th>stem-height</th>\n",
       "      <th>stem-width</th>\n",
       "      <th>stem-color</th>\n",
       "      <th>has-ring</th>\n",
       "      <th>ring-type</th>\n",
       "      <th>habitat</th>\n",
       "      <th>season</th>\n",
       "    </tr>\n",
       "  </thead>\n",
       "  <tbody>\n",
       "    <tr>\n",
       "      <th>2118</th>\n",
       "      <td>6.76</td>\n",
       "      <td>b</td>\n",
       "      <td>t</td>\n",
       "      <td>w</td>\n",
       "      <td>f</td>\n",
       "      <td>e</td>\n",
       "      <td>c</td>\n",
       "      <td>w</td>\n",
       "      <td>12.59</td>\n",
       "      <td>12.37</td>\n",
       "      <td>w</td>\n",
       "      <td>t</td>\n",
       "      <td>l</td>\n",
       "      <td>d</td>\n",
       "      <td>u</td>\n",
       "    </tr>\n",
       "    <tr>\n",
       "      <th>2119</th>\n",
       "      <td>6.83</td>\n",
       "      <td>b</td>\n",
       "      <td>t</td>\n",
       "      <td>w</td>\n",
       "      <td>f</td>\n",
       "      <td>e</td>\n",
       "      <td>c</td>\n",
       "      <td>w</td>\n",
       "      <td>13.84</td>\n",
       "      <td>13.54</td>\n",
       "      <td>w</td>\n",
       "      <td>t</td>\n",
       "      <td>l</td>\n",
       "      <td>d</td>\n",
       "      <td>u</td>\n",
       "    </tr>\n",
       "    <tr>\n",
       "      <th>2120</th>\n",
       "      <td>9.10</td>\n",
       "      <td>b</td>\n",
       "      <td>t</td>\n",
       "      <td>w</td>\n",
       "      <td>f</td>\n",
       "      <td>e</td>\n",
       "      <td>c</td>\n",
       "      <td>w</td>\n",
       "      <td>13.79</td>\n",
       "      <td>13.68</td>\n",
       "      <td>w</td>\n",
       "      <td>t</td>\n",
       "      <td>e</td>\n",
       "      <td>d</td>\n",
       "      <td>a</td>\n",
       "    </tr>\n",
       "    <tr>\n",
       "      <th>2121</th>\n",
       "      <td>8.27</td>\n",
       "      <td>b</td>\n",
       "      <td>t</td>\n",
       "      <td>w</td>\n",
       "      <td>f</td>\n",
       "      <td>e</td>\n",
       "      <td>c</td>\n",
       "      <td>w</td>\n",
       "      <td>12.63</td>\n",
       "      <td>12.46</td>\n",
       "      <td>w</td>\n",
       "      <td>t</td>\n",
       "      <td>l</td>\n",
       "      <td>d</td>\n",
       "      <td>a</td>\n",
       "    </tr>\n",
       "    <tr>\n",
       "      <th>2122</th>\n",
       "      <td>7.95</td>\n",
       "      <td>b</td>\n",
       "      <td>t</td>\n",
       "      <td>w</td>\n",
       "      <td>f</td>\n",
       "      <td>e</td>\n",
       "      <td>c</td>\n",
       "      <td>w</td>\n",
       "      <td>13.10</td>\n",
       "      <td>13.78</td>\n",
       "      <td>w</td>\n",
       "      <td>t</td>\n",
       "      <td>e</td>\n",
       "      <td>d</td>\n",
       "      <td>a</td>\n",
       "    </tr>\n",
       "  </tbody>\n",
       "</table>\n",
       "</div>"
      ],
      "text/plain": [
       "      cap-diameter cap-shape cap-surface cap-color does-bruise-or-bleed  \\\n",
       "2118          6.76         b           t         w                    f   \n",
       "2119          6.83         b           t         w                    f   \n",
       "2120          9.10         b           t         w                    f   \n",
       "2121          8.27         b           t         w                    f   \n",
       "2122          7.95         b           t         w                    f   \n",
       "\n",
       "     gill-attachment gill-spacing gill-color  stem-height  stem-width  \\\n",
       "2118               e            c          w        12.59       12.37   \n",
       "2119               e            c          w        13.84       13.54   \n",
       "2120               e            c          w        13.79       13.68   \n",
       "2121               e            c          w        12.63       12.46   \n",
       "2122               e            c          w        13.10       13.78   \n",
       "\n",
       "     stem-color has-ring ring-type habitat season  \n",
       "2118          w        t         l       d      u  \n",
       "2119          w        t         l       d      u  \n",
       "2120          w        t         e       d      a  \n",
       "2121          w        t         l       d      a  \n",
       "2122          w        t         e       d      a  "
      ]
     },
     "execution_count": 15,
     "metadata": {},
     "output_type": "execute_result"
    }
   ],
   "source": [
    "X_cleaned.head()"
   ]
  },
  {
   "cell_type": "markdown",
   "id": "0c6b8882",
   "metadata": {},
   "source": [
    "#### One-hot encoding\n",
    "It's used to transform cathegorical features (not ranked) into numerical values"
   ]
  },
  {
   "cell_type": "code",
   "execution_count": 12,
   "id": "aeeb6b40",
   "metadata": {},
   "outputs": [
    {
     "data": {
      "text/plain": [
       "(22239, 84)"
      ]
     },
     "execution_count": 12,
     "metadata": {},
     "output_type": "execute_result"
    }
   ],
   "source": [
    "ohe = OneHotEncoder(sparse_output=False)\n",
    "X_encoded = ohe.fit_transform(X_cleaned[['cap-shape', 'cap-surface', 'cap-color', 'does-bruise-or-bleed', 'gill-attachment', 'gill-spacing', 'gill-color', 'stem-color', 'has-ring', 'ring-type', 'habitat', 'season']])\n",
    "X_encoded.shape"
   ]
  },
  {
   "cell_type": "markdown",
   "id": "7cde11d5",
   "metadata": {},
   "source": [
    "With One-hot encoding the number of features has increased from 15 to 84.\n",
    "\n",
    "Now the dataset contains only numberical features."
   ]
  },
  {
   "cell_type": "markdown",
   "id": "90139e1c",
   "metadata": {},
   "source": [
    "---"
   ]
  },
  {
   "cell_type": "markdown",
   "id": "16dbfe2b",
   "metadata": {},
   "source": [
    "### Train and test set\n",
    "\n",
    "Split the dataset into Training set (60%) and Test set (40%)."
   ]
  },
  {
   "cell_type": "code",
   "execution_count": 28,
   "id": "c4e5099a",
   "metadata": {},
   "outputs": [],
   "source": [
    "X_train, X_test, y_train, y_test = train_test_split(X_encoded, y_cleaned, test_size = 0.4, random_state = 42, stratify = y_cleaned)"
   ]
  },
  {
   "cell_type": "markdown",
   "id": "275efe73",
   "metadata": {},
   "source": [
    "---"
   ]
  },
  {
   "cell_type": "markdown",
   "id": "4f3398e4",
   "metadata": {},
   "source": [
    "#### Optimal max_depth"
   ]
  },
  {
   "cell_type": "code",
   "execution_count": 24,
   "id": "a9823f98",
   "metadata": {},
   "outputs": [
    {
     "name": "stderr",
     "output_type": "stream",
     "text": [
      "/Users/beatricecagnin/opt/anaconda3/lib/python3.9/site-packages/scipy/__init__.py:155: UserWarning: A NumPy version >=1.18.5 and <1.25.0 is required for this version of SciPy (detected version 1.26.4\n",
      "  warnings.warn(f\"A NumPy version >={np_minversion} and <{np_maxversion}\"\n",
      "/Users/beatricecagnin/opt/anaconda3/lib/python3.9/site-packages/scipy/__init__.py:155: UserWarning: A NumPy version >=1.18.5 and <1.25.0 is required for this version of SciPy (detected version 1.26.4\n",
      "  warnings.warn(f\"A NumPy version >={np_minversion} and <{np_maxversion}\"\n",
      "/Users/beatricecagnin/opt/anaconda3/lib/python3.9/site-packages/scipy/__init__.py:155: UserWarning: A NumPy version >=1.18.5 and <1.25.0 is required for this version of SciPy (detected version 1.26.4\n",
      "  warnings.warn(f\"A NumPy version >={np_minversion} and <{np_maxversion}\"\n",
      "/Users/beatricecagnin/opt/anaconda3/lib/python3.9/site-packages/pandas/core/computation/expressions.py:21: UserWarning: Pandas requires version '2.8.4' or newer of 'numexpr' (version '2.8.3' currently installed).\n",
      "  from pandas.core.computation.check import NUMEXPR_INSTALLED\n",
      "/Users/beatricecagnin/opt/anaconda3/lib/python3.9/site-packages/pandas/core/computation/expressions.py:21: UserWarning: Pandas requires version '2.8.4' or newer of 'numexpr' (version '2.8.3' currently installed).\n",
      "  from pandas.core.computation.check import NUMEXPR_INSTALLED\n",
      "/Users/beatricecagnin/opt/anaconda3/lib/python3.9/site-packages/pandas/core/computation/expressions.py:21: UserWarning: Pandas requires version '2.8.4' or newer of 'numexpr' (version '2.8.3' currently installed).\n",
      "  from pandas.core.computation.check import NUMEXPR_INSTALLED\n",
      "/Users/beatricecagnin/opt/anaconda3/lib/python3.9/site-packages/pandas/core/arrays/masked.py:60: UserWarning: Pandas requires version '1.3.6' or newer of 'bottleneck' (version '1.3.5' currently installed).\n",
      "  from pandas.core import (\n",
      "/Users/beatricecagnin/opt/anaconda3/lib/python3.9/site-packages/pandas/core/arrays/masked.py:60: UserWarning: Pandas requires version '1.3.6' or newer of 'bottleneck' (version '1.3.5' currently installed).\n",
      "  from pandas.core import (\n",
      "/Users/beatricecagnin/opt/anaconda3/lib/python3.9/site-packages/pandas/core/arrays/masked.py:60: UserWarning: Pandas requires version '1.3.6' or newer of 'bottleneck' (version '1.3.5' currently installed).\n",
      "  from pandas.core import (\n",
      "/Users/beatricecagnin/opt/anaconda3/lib/python3.9/site-packages/scipy/__init__.py:155: UserWarning: A NumPy version >=1.18.5 and <1.25.0 is required for this version of SciPy (detected version 1.26.4\n",
      "  warnings.warn(f\"A NumPy version >={np_minversion} and <{np_maxversion}\"\n",
      "/Users/beatricecagnin/opt/anaconda3/lib/python3.9/site-packages/pandas/core/computation/expressions.py:21: UserWarning: Pandas requires version '2.8.4' or newer of 'numexpr' (version '2.8.3' currently installed).\n",
      "  from pandas.core.computation.check import NUMEXPR_INSTALLED\n",
      "/Users/beatricecagnin/opt/anaconda3/lib/python3.9/site-packages/pandas/core/arrays/masked.py:60: UserWarning: Pandas requires version '1.3.6' or newer of 'bottleneck' (version '1.3.5' currently installed).\n",
      "  from pandas.core import (\n"
     ]
    }
   ],
   "source": [
    "depths = range(5, 51, 5) \n",
    "mean_cv_scores_d = []\n",
    "\n",
    "for depth in depths:\n",
    "    clf = DecisionTree(max_depth=depth, min_samples_split=2)\n",
    "    cv_scores = cross_val_score(clf, X_encoded, y_cleaned, cv=3, scoring='accuracy',  n_jobs=-1)\n",
    "    mean_cv_scores_d.append(np.mean(cv_scores))"
   ]
  },
  {
   "cell_type": "code",
   "execution_count": 25,
   "id": "af764d42",
   "metadata": {},
   "outputs": [
    {
     "data": {
      "image/png": "[encoded data removed]",
      "text/plain": [
       "<Figure size 640x480 with 1 Axes>"
      ]
     },
     "metadata": {},
     "output_type": "display_data"
    }
   ],
   "source": [
    "plt.plot(depths, mean_cv_scores_d, marker='o')\n",
    "plt.xlabel('Max Depth')\n",
    "plt.ylabel('Mean Cross-Validation Accuracy')\n",
    "plt.title('Optimal Max Depth for Decision Tree')\n",
    "plt.grid(True)\n",
    "plt.show()"
   ]
  },
  {
   "cell_type": "code",
   "execution_count": 26,
   "id": "1871a620",
   "metadata": {},
   "outputs": [
    {
     "name": "stdout",
     "output_type": "stream",
     "text": [
      "The optimal max_depth is 10 with a mean CV accuracy of 0.4969\n"
     ]
    }
   ],
   "source": [
    "best_depth = depths[np.argmax(mean_cv_scores_d)]\n",
    "best_score = np.max(mean_cv_scores_d)\n",
    "\n",
    "print(f\"The optimal max_depth is {best_depth} with a mean CV accuracy of {best_score:.4f}\")"
   ]
  },
  {
   "cell_type": "markdown",
   "id": "9dd941a7",
   "metadata": {},
   "source": [
    "---"
   ]
  },
  {
   "cell_type": "markdown",
   "id": "c95e04c5",
   "metadata": {},
   "source": [
    "#### Optimal min_samples_split"
   ]
  },
  {
   "cell_type": "code",
   "execution_count": 27,
   "id": "f7842a86",
   "metadata": {},
   "outputs": [],
   "source": [
    "min_samples_splits = range(2, 451, 50) \n",
    "mean_cv_scores_s = []\n",
    "\n",
    "for split in min_samples_splits:\n",
    "    clf = DecisionTree(min_samples_split=split, max_depth=10)\n",
    "    cv_scores = cross_val_score(clf, X_encoded, y_cleaned, cv=3, scoring='accuracy',  n_jobs=-1)\n",
    "    mean_cv_scores_s.append(np.mean(cv_scores))"
   ]
  },
  {
   "cell_type": "code",
   "execution_count": 28,
   "id": "4273cfc0",
   "metadata": {},
   "outputs": [
    {
     "data": {
      "image/png": "[encoded data removed]",
      "text/plain": [
       "<Figure size 640x480 with 1 Axes>"
      ]
     },
     "metadata": {},
     "output_type": "display_data"
    }
   ],
   "source": [
    "plt.plot(min_samples_splits, mean_cv_scores_s, marker='o')\n",
    "plt.xlabel('Min Samples Split')\n",
    "plt.ylabel('Mean Cross-Validation Accuracy')\n",
    "plt.title('Optimal Min Samples Split for Decision Tree') \n",
    "plt.grid(True)\n",
    "plt.show()"
   ]
  },
  {
   "cell_type": "code",
   "execution_count": 29,
   "id": "e4cbdf38",
   "metadata": {},
   "outputs": [
    {
     "name": "stdout",
     "output_type": "stream",
     "text": [
      "The optimal Min Samples Split is 2 with a mean CV accuracy of 0.4969\n"
     ]
    }
   ],
   "source": [
    "best_min_samples_splits = min_samples_splits[np.argmax(mean_cv_scores_s)]\n",
    "best_score = np.max(mean_cv_scores_s)\n",
    "\n",
    "print(f\"The optimal Min Samples Split is {best_min_samples_splits} with a mean CV accuracy of {best_score:.4f}\")"
   ]
  },
  {
   "cell_type": "markdown",
   "id": "ad8d9247",
   "metadata": {},
   "source": [
    "---"
   ]
  },
  {
   "cell_type": "markdown",
   "id": "5341bcd7",
   "metadata": {},
   "source": [
    "### Train the tree predictors"
   ]
  },
  {
   "cell_type": "markdown",
   "id": "93f4d54f",
   "metadata": {},
   "source": [
    "3 splitting criteria\n",
    "\n",
    "- Gini Index: Measures the impurity of a node\n",
    "- Entropy: Measures the amount of information gained from a split  -  Focuses on reducing uncertainty\n",
    "- Chi-Squared Statistic: Measures the average squared difference between actual and predicted values \n",
    "\n",
    "---\n",
    "\n",
    "2 stopping Criteria - here default values\n",
    "\n",
    "- Maximum Depth: Stop splitting if the tree reaches a certain depth (max_depth=None default - allows the tree to grow until it perfectly classifies the training data... possibly leading to overfitting)\n",
    "- Minimum Samples Split: Stop splitting if the number of samples in a node is less than a threshold (min_samples_split=2 default)\n"
   ]
  },
  {
   "cell_type": "markdown",
   "id": "6fb67638",
   "metadata": {},
   "source": [
    "GINI"
   ]
  },
  {
   "cell_type": "code",
   "execution_count": 18,
   "id": "ef1cbca1",
   "metadata": {},
   "outputs": [],
   "source": [
    "tree_gini = DecisionTree(splitting_criterion='gini', max_depth=10, min_samples_split=2)\n",
    "tree_gini.fit(X_train, y_train)\n",
    "    \n",
    "y_train_pred_gini = tree_gini.predict(X_train)"
   ]
  },
  {
   "cell_type": "markdown",
   "id": "7fbf98b7",
   "metadata": {},
   "source": [
    "ENTROPY"
   ]
  },
  {
   "cell_type": "code",
   "execution_count": 19,
   "id": "6757c1a1",
   "metadata": {},
   "outputs": [],
   "source": [
    "tree_entropy = DecisionTree(splitting_criterion='entropy', max_depth=10, min_samples_split=2)\n",
    "tree_entropy.fit(X_train, y_train)\n",
    "    \n",
    "y_train_pred_entropy = tree_entropy.predict(X_train)"
   ]
  },
  {
   "cell_type": "markdown",
   "id": "314954df",
   "metadata": {},
   "source": [
    "SQUARED ERROR"
   ]
  },
  {
   "cell_type": "code",
   "execution_count": 20,
   "id": "d8418261",
   "metadata": {},
   "outputs": [],
   "source": [
    "tree_squared_error = DecisionTree(splitting_criterion='squared_error', max_depth=10, min_samples_split=2)\n",
    "tree_squared_error.fit(X_train, y_train)\n",
    "\n",
    "y_train_pred_squared_error = tree_squared_error.predict(X_train)"
   ]
  },
  {
   "cell_type": "markdown",
   "id": "52afd870",
   "metadata": {},
   "source": [
    "#### Training error for binary classification"
   ]
  },
  {
   "cell_type": "code",
   "execution_count": 21,
   "id": "6a87d8b1",
   "metadata": {},
   "outputs": [
    {
     "name": "stdout",
     "output_type": "stream",
     "text": [
      "Training Error - Gini (0-1 loss): 0.0137\n",
      "Training Error - Entropy (0-1 loss): 0.1207\n",
      "Training Error - Squared error (0-1 loss): 0.0137\n"
     ]
    }
   ],
   "source": [
    "train_error_gini = zero_one_loss(y_train, y_train_pred_gini)\n",
    "print(f\"Training Error - Gini (0-1 loss): {train_error_gini:.4f}\")\n",
    "\n",
    "train_error_entropy = zero_one_loss(y_train, y_train_pred_entropy)\n",
    "print(f\"Training Error - Entropy (0-1 loss): {train_error_entropy:.4f}\")\n",
    "\n",
    "train_error_squared_error = zero_one_loss(y_train, y_train_pred_squared_error)\n",
    "print(f\"Training Error - Squared error (0-1 loss): {train_error_squared_error:.4f}\")"
   ]
  },
  {
   "cell_type": "markdown",
   "id": "3b300fd4",
   "metadata": {},
   "source": [
    "Good with low training error "
   ]
  },
  {
   "cell_type": "markdown",
   "id": "310186d2",
   "metadata": {},
   "source": [
    "#### Test error \n",
    "as an estimate for the risk (= performance of the predictor)"
   ]
  },
  {
   "cell_type": "code",
   "execution_count": 22,
   "id": "8b3ad9b3",
   "metadata": {},
   "outputs": [],
   "source": [
    "y_test_pred_gini = tree_gini.predict(X_test)\n",
    "y_test_pred_entropy = tree_entropy.predict(X_test)\n",
    "y_test_pred_squared_error = tree_squared_error.predict(X_test)"
   ]
  },
  {
   "cell_type": "code",
   "execution_count": 23,
   "id": "3a0ce9ea",
   "metadata": {},
   "outputs": [
    {
     "name": "stdout",
     "output_type": "stream",
     "text": [
      "Test Error - Gini (0-1 loss): 0.0160\n",
      "Test Error - Entropy (0-1 loss): 0.1230\n",
      "Test Error - Squared error (0-1 loss): 0.0160\n"
     ]
    }
   ],
   "source": [
    "test_error_gini = zero_one_loss(y_test, y_test_pred_gini)\n",
    "print(f\"Test Error - Gini (0-1 loss): {test_error_gini:.4f}\")\n",
    "\n",
    "test_error_entropy = zero_one_loss(y_test, y_test_pred_entropy)\n",
    "print(f\"Test Error - Entropy (0-1 loss): {test_error_entropy:.4f}\")\n",
    "\n",
    "test_error_squared_error = zero_one_loss(y_test, y_test_pred_squared_error)\n",
    "print(f\"Test Error - Squared error (0-1 loss): {test_error_squared_error:.4f}\")"
   ]
  },
  {
   "cell_type": "markdown",
   "id": "b8e73952",
   "metadata": {},
   "source": [
    "Seems that there's no overfitting since training and test accuracy are similar"
   ]
  },
  {
   "cell_type": "markdown",
   "id": "bbf5ada2",
   "metadata": {},
   "source": [
    "---"
   ]
  },
  {
   "cell_type": "markdown",
   "id": "2a62253b",
   "metadata": {},
   "source": [
    "### Is there overfitting?\n",
    "\n",
    "\n",
    "Regularization techniques to mitigate it:\n",
    "\n",
    "- Hyperparameter tuning\n",
    "\n",
    "- Cross Validation Score\n",
    "\n",
    "- Validation curve"
   ]
  },
  {
   "cell_type": "markdown",
   "id": "3554c355",
   "metadata": {},
   "source": [
    "## Hyperparameter tuning\n",
    "\n",
    "##### RandomizedSearchCV \n",
    "It searches for the best hyperparameters by randomly sampling a specified number of parameter combinations from the provided search space. "
   ]
  },
  {
   "cell_type": "code",
   "execution_count": 30,
   "id": "65775b0b",
   "metadata": {},
   "outputs": [],
   "source": [
    "hyperparam = {\n",
    "    'criterion': ['gini', 'entropy', 'squared_error'],\n",
    "    'max_depth': range(5, 51, 5),\n",
    "    'min_samples_split': range(2, 451, 50)\n",
    "}"
   ]
  },
  {
   "cell_type": "code",
   "execution_count": 31,
   "id": "e8e79b5f",
   "metadata": {},
   "outputs": [
    {
     "name": "stdout",
     "output_type": "stream",
     "text": [
      "Best Hyperparameters: {'min_samples_split': 2, 'max_depth': 40, 'criterion': 'gini'}\n",
      "Best Cross-Validation Accuracy: 0.9993\n"
     ]
    }
   ],
   "source": [
    "tuned_tree = DecisionTree()  \n",
    "\n",
    "random_search = RandomizedSearchCV(tuned_tree, param_distributions=hyperparam, n_iter=50, cv=5, n_jobs=-1)\n",
    "\n",
    "random_search.fit(X_train, y_train)\n",
    "\n",
    "print(f\"Best Hyperparameters: {random_search.best_params_}\")\n",
    "print(f\"Best Cross-Validation Accuracy: {random_search.best_score_:.4f}\")   "
   ]
  },
  {
   "cell_type": "code",
   "execution_count": 32,
   "id": "4885bcdf",
   "metadata": {},
   "outputs": [
    {
     "name": "stdout",
     "output_type": "stream",
     "text": [
      "Test accuracy: 0.9995503597122302\n"
     ]
    }
   ],
   "source": [
    "y_pred_h = random_search.predict(X_test)\n",
    "\n",
    "accuracy = accuracy_score(y_test, y_pred_h)\n",
    "\n",
    "print(f\"Test accuracy: {accuracy}\")"
   ]
  },
  {
   "cell_type": "markdown",
   "id": "6df81c2c",
   "metadata": {},
   "source": [
    "Use cross_val_score to evaluate the performance of the model on the whole dataset"
   ]
  },
  {
   "cell_type": "code",
   "execution_count": 33,
   "id": "46c63717",
   "metadata": {},
   "outputs": [
    {
     "data": {
      "text/plain": [
       "0.46859121363370654"
      ]
     },
     "execution_count": 33,
     "metadata": {},
     "output_type": "execute_result"
    }
   ],
   "source": [
    "scores = cross_val_score(random_search, X_encoded, y_cleaned, cv=3,  n_jobs=-1)   \n",
    "scores.mean()"
   ]
  },
  {
   "cell_type": "markdown",
   "id": "013cc224",
   "metadata": {},
   "source": [
    "Since these parameters are already the result of RandomizedSearchCV, it's important to understand that even though they might represent the best found in your search, overfitting is still a potential issue due to the nature of the dataset, model complexity, and data split."
   ]
  },
  {
   "cell_type": "markdown",
   "id": "05a463d1",
   "metadata": {},
   "source": [
    "---"
   ]
  },
  {
   "cell_type": "markdown",
   "id": "07bf7338",
   "metadata": {},
   "source": [
    "### Validation curves"
   ]
  },
  {
   "cell_type": "markdown",
   "id": "514bf9af",
   "metadata": {},
   "source": [
    "- max_depth"
   ]
  },
  {
   "cell_type": "code",
   "execution_count": 34,
   "id": "d45fb56f",
   "metadata": {},
   "outputs": [
    {
     "name": "stderr",
     "output_type": "stream",
     "text": [
      "/Users/beatricecagnin/opt/anaconda3/lib/python3.9/site-packages/scipy/__init__.py:155: UserWarning: A NumPy version >=1.18.5 and <1.25.0 is required for this version of SciPy (detected version 1.26.4\n",
      "  warnings.warn(f\"A NumPy version >={np_minversion} and <{np_maxversion}\"\n",
      "/Users/beatricecagnin/opt/anaconda3/lib/python3.9/site-packages/pandas/core/computation/expressions.py:21: UserWarning: Pandas requires version '2.8.4' or newer of 'numexpr' (version '2.8.3' currently installed).\n",
      "  from pandas.core.computation.check import NUMEXPR_INSTALLED\n",
      "/Users/beatricecagnin/opt/anaconda3/lib/python3.9/site-packages/pandas/core/arrays/masked.py:60: UserWarning: Pandas requires version '1.3.6' or newer of 'bottleneck' (version '1.3.5' currently installed).\n",
      "  from pandas.core import (\n"
     ]
    },
    {
     "data": {
      "image/png": "[encoded data removed]",
      "text/plain": [
       "<Figure size 640x480 with 1 Axes>"
      ]
     },
     "metadata": {},
     "output_type": "display_data"
    }
   ],
   "source": [
    "tun_tree = DecisionTree(splitting_criterion='gini', min_samples_split=2)\n",
    "depths = np.arange(5, 51, 5) \n",
    "\n",
    "train_score, test_score = validation_curve(tun_tree, X_encoded, y_cleaned, param_name='max_depth', param_range=depths, cv=5, n_jobs=-1)\n",
    "\n",
    "\n",
    "plt.title('Tree classifier vs. depth (min_samples_split=2)')\n",
    "plt.plot(depths, np.mean(test_score, axis=1), label='Test accuracy')\n",
    "plt.plot(depths, np.mean(train_score, axis=1), label='Training accuracy')\n",
    "\n",
    "plt.legend()\n",
    "plt.xlabel('Depth')\n",
    "plt.ylabel('Accuracy')\n",
    "plt.show()\n"
   ]
  },
  {
   "cell_type": "markdown",
   "id": "a869acb3",
   "metadata": {},
   "source": [
    "From the plot it's evident that there's overfitting (the model performs very well on training data but poorly on test data)"
   ]
  },
  {
   "cell_type": "markdown",
   "id": "c25bc518",
   "metadata": {},
   "source": [
    "---"
   ]
  },
  {
   "cell_type": "markdown",
   "id": "5378a127",
   "metadata": {},
   "source": [
    "- min_samples_splits"
   ]
  },
  {
   "cell_type": "code",
   "execution_count": 14,
   "id": "933fb2a6",
   "metadata": {},
   "outputs": [
    {
     "name": "stderr",
     "output_type": "stream",
     "text": [
      "/Users/beatricecagnin/opt/anaconda3/lib/python3.9/site-packages/scipy/__init__.py:155: UserWarning: A NumPy version >=1.18.5 and <1.25.0 is required for this version of SciPy (detected version 1.26.4\n",
      "  warnings.warn(f\"A NumPy version >={np_minversion} and <{np_maxversion}\"\n",
      "/Users/beatricecagnin/opt/anaconda3/lib/python3.9/site-packages/scipy/__init__.py:155: UserWarning: A NumPy version >=1.18.5 and <1.25.0 is required for this version of SciPy (detected version 1.26.4\n",
      "  warnings.warn(f\"A NumPy version >={np_minversion} and <{np_maxversion}\"\n",
      "/Users/beatricecagnin/opt/anaconda3/lib/python3.9/site-packages/scipy/__init__.py:155: UserWarning: A NumPy version >=1.18.5 and <1.25.0 is required for this version of SciPy (detected version 1.26.4\n",
      "  warnings.warn(f\"A NumPy version >={np_minversion} and <{np_maxversion}\"\n",
      "/Users/beatricecagnin/opt/anaconda3/lib/python3.9/site-packages/scipy/__init__.py:155: UserWarning: A NumPy version >=1.18.5 and <1.25.0 is required for this version of SciPy (detected version 1.26.4\n",
      "  warnings.warn(f\"A NumPy version >={np_minversion} and <{np_maxversion}\"\n",
      "/Users/beatricecagnin/opt/anaconda3/lib/python3.9/site-packages/pandas/core/computation/expressions.py:21: UserWarning: Pandas requires version '2.8.4' or newer of 'numexpr' (version '2.8.3' currently installed).\n",
      "  from pandas.core.computation.check import NUMEXPR_INSTALLED\n",
      "/Users/beatricecagnin/opt/anaconda3/lib/python3.9/site-packages/pandas/core/computation/expressions.py:21: UserWarning: Pandas requires version '2.8.4' or newer of 'numexpr' (version '2.8.3' currently installed).\n",
      "  from pandas.core.computation.check import NUMEXPR_INSTALLED\n",
      "/Users/beatricecagnin/opt/anaconda3/lib/python3.9/site-packages/pandas/core/computation/expressions.py:21: UserWarning: Pandas requires version '2.8.4' or newer of 'numexpr' (version '2.8.3' currently installed).\n",
      "  from pandas.core.computation.check import NUMEXPR_INSTALLED\n",
      "/Users/beatricecagnin/opt/anaconda3/lib/python3.9/site-packages/pandas/core/computation/expressions.py:21: UserWarning: Pandas requires version '2.8.4' or newer of 'numexpr' (version '2.8.3' currently installed).\n",
      "  from pandas.core.computation.check import NUMEXPR_INSTALLED\n",
      "/Users/beatricecagnin/opt/anaconda3/lib/python3.9/site-packages/pandas/core/arrays/masked.py:60: UserWarning: Pandas requires version '1.3.6' or newer of 'bottleneck' (version '1.3.5' currently installed).\n",
      "  from pandas.core import (\n",
      "/Users/beatricecagnin/opt/anaconda3/lib/python3.9/site-packages/pandas/core/arrays/masked.py:60: UserWarning: Pandas requires version '1.3.6' or newer of 'bottleneck' (version '1.3.5' currently installed).\n",
      "  from pandas.core import (\n",
      "/Users/beatricecagnin/opt/anaconda3/lib/python3.9/site-packages/pandas/core/arrays/masked.py:60: UserWarning: Pandas requires version '1.3.6' or newer of 'bottleneck' (version '1.3.5' currently installed).\n",
      "  from pandas.core import (\n",
      "/Users/beatricecagnin/opt/anaconda3/lib/python3.9/site-packages/pandas/core/arrays/masked.py:60: UserWarning: Pandas requires version '1.3.6' or newer of 'bottleneck' (version '1.3.5' currently installed).\n",
      "  from pandas.core import (\n"
     ]
    },
    {
     "data": {
      "image/png": "[encoded data removed]",
      "text/plain": [
       "<Figure size 640x480 with 1 Axes>"
      ]
     },
     "metadata": {},
     "output_type": "display_data"
    }
   ],
   "source": [
    "tune_tree = DecisionTree(splitting_criterion='gini', max_depth=40)\n",
    "min_samples_splits = np.arange(2, 501, 50)  \n",
    "\n",
    "train_score, test_score = validation_curve(tune_tree, X_encoded, y_cleaned, param_name='min_samples_split', param_range=min_samples_splits, cv=5, n_jobs=-1)\n",
    "\n",
    "\n",
    "plt.title('Tree classifier vs. min_samples_splits (max_depth=40)')\n",
    "plt.plot(min_samples_splits, np.mean(test_score, axis=1), label='Test accuracy')\n",
    "plt.plot(min_samples_splits, np.mean(train_score, axis=1), label='Training accuracy')\n",
    "\n",
    "plt.legend()\n",
    "plt.xlabel('min_samples_splits')\n",
    "plt.ylabel('Accuracy')\n",
    "plt.show()"
   ]
  },
  {
   "cell_type": "markdown",
   "id": "787702ce",
   "metadata": {},
   "source": [
    "There's overfitting"
   ]
  },
  {
   "cell_type": "markdown",
   "id": "d7b943ec",
   "metadata": {},
   "source": [
    "---"
   ]
  },
  {
   "cell_type": "markdown",
   "id": "eedb0747",
   "metadata": {},
   "source": [
    "## Random Forest\n",
    "\n",
    "It combats overfitting by averaging multiple decision trees, each trained on a random subset of the data and features"
   ]
  },
  {
   "cell_type": "code",
   "execution_count": 32,
   "id": "489f10f2",
   "metadata": {},
   "outputs": [
    {
     "name": "stdout",
     "output_type": "stream",
     "text": [
      "Accuracy with RandomForest: 0.9996\n"
     ]
    }
   ],
   "source": [
    "X_train = np.array(X_train)\n",
    "X_test = np.array(X_test)\n",
    "y_train = np.array(y_train)\n",
    "y_test = np.array(y_test)\n",
    "\n",
    "\n",
    "random_forest = RandomForest(n_estimators=50, max_depth=40, min_samples_split=2)\n",
    "\n",
    "random_forest.fit(X_train, y_train)\n",
    "y_pred = random_forest.predict(X_test)\n",
    "\n",
    "accuracy = accuracy_score(y_test, y_pred)\n",
    "print(f\"Accuracy with RandomForest: {accuracy:.4f}\")"
   ]
  },
  {
   "cell_type": "code",
   "execution_count": 37,
   "id": "ad0b0008",
   "metadata": {},
   "outputs": [
    {
     "name": "stdout",
     "output_type": "stream",
     "text": [
      "<class 'numpy.ndarray'> (22239, 84)\n",
      "<class 'pandas.core.series.Series'> (22239,)\n"
     ]
    }
   ],
   "source": [
    "print(type(X_encoded), X_encoded.shape)  \n",
    "print(type(y_cleaned), y_cleaned.shape) "
   ]
  },
  {
   "cell_type": "code",
   "execution_count": 29,
   "id": "17de9bc4",
   "metadata": {},
   "outputs": [
    {
     "name": "stderr",
     "output_type": "stream",
     "text": [
      "/Users/beatricecagnin/opt/anaconda3/lib/python3.9/site-packages/scipy/__init__.py:155: UserWarning: A NumPy version >=1.18.5 and <1.25.0 is required for this version of SciPy (detected version 1.26.4\n",
      "  warnings.warn(f\"A NumPy version >={np_minversion} and <{np_maxversion}\"\n",
      "/Users/beatricecagnin/opt/anaconda3/lib/python3.9/site-packages/pandas/core/computation/expressions.py:21: UserWarning: Pandas requires version '2.8.4' or newer of 'numexpr' (version '2.8.3' currently installed).\n",
      "  from pandas.core.computation.check import NUMEXPR_INSTALLED\n",
      "/Users/beatricecagnin/opt/anaconda3/lib/python3.9/site-packages/pandas/core/arrays/masked.py:60: UserWarning: Pandas requires version '1.3.6' or newer of 'bottleneck' (version '1.3.5' currently installed).\n",
      "  from pandas.core import (\n",
      "/Users/beatricecagnin/opt/anaconda3/lib/python3.9/site-packages/scipy/__init__.py:155: UserWarning: A NumPy version >=1.18.5 and <1.25.0 is required for this version of SciPy (detected version 1.26.4\n",
      "  warnings.warn(f\"A NumPy version >={np_minversion} and <{np_maxversion}\"\n",
      "/Users/beatricecagnin/opt/anaconda3/lib/python3.9/site-packages/pandas/core/computation/expressions.py:21: UserWarning: Pandas requires version '2.8.4' or newer of 'numexpr' (version '2.8.3' currently installed).\n",
      "  from pandas.core.computation.check import NUMEXPR_INSTALLED\n",
      "/Users/beatricecagnin/opt/anaconda3/lib/python3.9/site-packages/pandas/core/arrays/masked.py:60: UserWarning: Pandas requires version '1.3.6' or newer of 'bottleneck' (version '1.3.5' currently installed).\n",
      "  from pandas.core import (\n",
      "/Users/beatricecagnin/opt/anaconda3/lib/python3.9/site-packages/scipy/__init__.py:155: UserWarning: A NumPy version >=1.18.5 and <1.25.0 is required for this version of SciPy (detected version 1.26.4\n",
      "  warnings.warn(f\"A NumPy version >={np_minversion} and <{np_maxversion}\"\n",
      "/Users/beatricecagnin/opt/anaconda3/lib/python3.9/site-packages/pandas/core/computation/expressions.py:21: UserWarning: Pandas requires version '2.8.4' or newer of 'numexpr' (version '2.8.3' currently installed).\n",
      "  from pandas.core.computation.check import NUMEXPR_INSTALLED\n",
      "/Users/beatricecagnin/opt/anaconda3/lib/python3.9/site-packages/pandas/core/arrays/masked.py:60: UserWarning: Pandas requires version '1.3.6' or newer of 'bottleneck' (version '1.3.5' currently installed).\n",
      "  from pandas.core import (\n"
     ]
    },
    {
     "data": {
      "text/plain": [
       "0.5009218040379514"
      ]
     },
     "execution_count": 29,
     "metadata": {},
     "output_type": "execute_result"
    }
   ],
   "source": [
    "y_cleaned = y_cleaned.to_numpy()  \n",
    "\n",
    "scores = cross_val_score(random_forest, X_encoded, y_cleaned, cv=3,  n_jobs=-1, error_score='raise')   \n",
    "scores.mean()"
   ]
  },
  {
   "cell_type": "markdown",
   "id": "b65f6006",
   "metadata": {},
   "source": [
    "The performance of RandomForest classifier is slightly better than RandomizedSearchCV on DecisionTree classifier, indeed 0.5009 > 0.4686."
   ]
  },
  {
   "cell_type": "markdown",
   "id": "3987415d",
   "metadata": {},
   "source": [
    "---"
   ]
  },
  {
   "cell_type": "markdown",
   "id": "dcc1ebb9",
   "metadata": {},
   "source": [
    "### Validation curves with RandomForest"
   ]
  },
  {
   "cell_type": "markdown",
   "id": "b01ba416",
   "metadata": {},
   "source": [
    "- max_depth"
   ]
  },
  {
   "cell_type": "code",
   "execution_count": 33,
   "id": "575fa45c",
   "metadata": {},
   "outputs": [
    {
     "name": "stderr",
     "output_type": "stream",
     "text": [
      "/Users/beatricecagnin/opt/anaconda3/lib/python3.9/site-packages/scipy/__init__.py:155: UserWarning: A NumPy version >=1.18.5 and <1.25.0 is required for this version of SciPy (detected version 1.26.4\n",
      "  warnings.warn(f\"A NumPy version >={np_minversion} and <{np_maxversion}\"\n",
      "/Users/beatricecagnin/opt/anaconda3/lib/python3.9/site-packages/scipy/__init__.py:155: UserWarning: A NumPy version >=1.18.5 and <1.25.0 is required for this version of SciPy (detected version 1.26.4\n",
      "  warnings.warn(f\"A NumPy version >={np_minversion} and <{np_maxversion}\"\n",
      "/Users/beatricecagnin/opt/anaconda3/lib/python3.9/site-packages/scipy/__init__.py:155: UserWarning: A NumPy version >=1.18.5 and <1.25.0 is required for this version of SciPy (detected version 1.26.4\n",
      "  warnings.warn(f\"A NumPy version >={np_minversion} and <{np_maxversion}\"\n",
      "/Users/beatricecagnin/opt/anaconda3/lib/python3.9/site-packages/scipy/__init__.py:155: UserWarning: A NumPy version >=1.18.5 and <1.25.0 is required for this version of SciPy (detected version 1.26.4\n",
      "  warnings.warn(f\"A NumPy version >={np_minversion} and <{np_maxversion}\"\n",
      "/Users/beatricecagnin/opt/anaconda3/lib/python3.9/site-packages/pandas/core/computation/expressions.py:21: UserWarning: Pandas requires version '2.8.4' or newer of 'numexpr' (version '2.8.3' currently installed).\n",
      "  from pandas.core.computation.check import NUMEXPR_INSTALLED\n",
      "/Users/beatricecagnin/opt/anaconda3/lib/python3.9/site-packages/pandas/core/computation/expressions.py:21: UserWarning: Pandas requires version '2.8.4' or newer of 'numexpr' (version '2.8.3' currently installed).\n",
      "  from pandas.core.computation.check import NUMEXPR_INSTALLED\n",
      "/Users/beatricecagnin/opt/anaconda3/lib/python3.9/site-packages/pandas/core/computation/expressions.py:21: UserWarning: Pandas requires version '2.8.4' or newer of 'numexpr' (version '2.8.3' currently installed).\n",
      "  from pandas.core.computation.check import NUMEXPR_INSTALLED\n",
      "/Users/beatricecagnin/opt/anaconda3/lib/python3.9/site-packages/pandas/core/computation/expressions.py:21: UserWarning: Pandas requires version '2.8.4' or newer of 'numexpr' (version '2.8.3' currently installed).\n",
      "  from pandas.core.computation.check import NUMEXPR_INSTALLED\n",
      "/Users/beatricecagnin/opt/anaconda3/lib/python3.9/site-packages/pandas/core/arrays/masked.py:60: UserWarning: Pandas requires version '1.3.6' or newer of 'bottleneck' (version '1.3.5' currently installed).\n",
      "  from pandas.core import (\n",
      "/Users/beatricecagnin/opt/anaconda3/lib/python3.9/site-packages/pandas/core/arrays/masked.py:60: UserWarning: Pandas requires version '1.3.6' or newer of 'bottleneck' (version '1.3.5' currently installed).\n",
      "  from pandas.core import (\n",
      "/Users/beatricecagnin/opt/anaconda3/lib/python3.9/site-packages/pandas/core/arrays/masked.py:60: UserWarning: Pandas requires version '1.3.6' or newer of 'bottleneck' (version '1.3.5' currently installed).\n",
      "  from pandas.core import (\n",
      "/Users/beatricecagnin/opt/anaconda3/lib/python3.9/site-packages/pandas/core/arrays/masked.py:60: UserWarning: Pandas requires version '1.3.6' or newer of 'bottleneck' (version '1.3.5' currently installed).\n",
      "  from pandas.core import (\n"
     ]
    },
    {
     "data": {
      "image/png": "[encoded data removed]",
      "text/plain": [
       "<Figure size 640x480 with 1 Axes>"
      ]
     },
     "metadata": {},
     "output_type": "display_data"
    }
   ],
   "source": [
    "tun_tree_rf = RandomForest(n_estimators=10, min_samples_split=2)\n",
    "depths = np.arange(5, 51, 5) \n",
    "\n",
    "train_score, test_score = validation_curve(tun_tree_rf, X_encoded, y_cleaned, param_name='max_depth', param_range=depths, cv=3, n_jobs=-1)\n",
    "\n",
    "\n",
    "plt.title('Tree classifier vs. depth (min_samples_split=2)')\n",
    "plt.plot(depths, np.mean(test_score, axis=1), label='Test accuracy')\n",
    "plt.plot(depths, np.mean(train_score, axis=1), label='Training accuracy')\n",
    "\n",
    "plt.legend()\n",
    "plt.xlabel('Depth')\n",
    "plt.ylabel('Accuracy')\n",
    "plt.show()\n"
   ]
  },
  {
   "cell_type": "markdown",
   "id": "aed18dd5",
   "metadata": {},
   "source": [
    "- min_samples_splits"
   ]
  },
  {
   "cell_type": "code",
   "execution_count": 34,
   "id": "77c6e98e",
   "metadata": {},
   "outputs": [
    {
     "data": {
      "image/png": "[encoded data removed]",
      "text/plain": [
       "<Figure size 640x480 with 1 Axes>"
      ]
     },
     "metadata": {},
     "output_type": "display_data"
    }
   ],
   "source": [
    "tune_tree_rf = RandomForest(n_estimators=10, max_depth=40)\n",
    "min_samples_splits = np.arange(2, 501, 50)  \n",
    "\n",
    "train_score, test_score = validation_curve(tune_tree_rf, X_encoded, y_cleaned, param_name='min_samples_split', param_range=min_samples_splits, cv=3, n_jobs=-1)\n",
    "\n",
    "\n",
    "plt.title('Tree classifier vs. min_samples_splits (max_depth=40)')\n",
    "plt.plot(min_samples_splits, np.mean(test_score, axis=1), label='Test accuracy')\n",
    "plt.plot(min_samples_splits, np.mean(train_score, axis=1), label='Training accuracy')\n",
    "\n",
    "plt.legend()\n",
    "plt.xlabel('min_samples_splits')\n",
    "plt.ylabel('Accuracy')\n",
    "plt.show()"
   ]
  }
 ],
 "metadata": {
  "kernelspec": {
   "display_name": "Python 3 (ipykernel)",
   "language": "python",
   "name": "python3"
  },
  "language_info": {
   "codemirror_mode": {
    "name": "ipython",
    "version": 3
   },
   "file_extension": ".py",
   "mimetype": "text/x-python",
   "name": "python",
   "nbconvert_exporter": "python",
   "pygments_lexer": "ipython3",
   "version": "3.9.13"
  }
 },
 "nbformat": 4,
 "nbformat_minor": 5
}
